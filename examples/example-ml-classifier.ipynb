{
 "cells": [
  {
   "cell_type": "markdown",
   "id": "9fc79c72-0a27-45c3-8af3-ac936aba56b8",
   "metadata": {},
   "source": [
    "# Machine Learning classifier"
   ]
  },
  {
   "cell_type": "code",
   "execution_count": 1,
   "id": "1d908316-bd33-4449-84c5-9a2ac19bee32",
   "metadata": {},
   "outputs": [],
   "source": [
    "import pandas as pd\n",
    "\n",
    "from nbsnapshot import compare\n",
    "from nbsnapshot.exceptions import SnapshotTestFailure"
   ]
  },
  {
   "cell_type": "markdown",
   "id": "c5c35a69-e1cc-43c6-b28c-36f1f5171212",
   "metadata": {},
   "source": [
    "Let's run a notebook (10 times) that trains a random forest classifier and records the model's accuracy:"
   ]
  },
  {
   "cell_type": "code",
   "execution_count": 2,
   "id": "b603d927-3f6d-4a43-b648-032cc032d38e",
   "metadata": {},
   "outputs": [
    {
     "name": "stdout",
     "output_type": "stream",
     "text": [
      "**Iteration 0**\n",
      "Running notebook...\n",
      "Added 'accuracy' to history, 1 more needed for testing...\n",
      "**Iteration 1**\n",
      "Running notebook...\n",
      "Added 'accuracy' to history, next call will start testing...\n",
      "**Iteration 2**\n",
      "Running notebook...\n",
      "\u001b[32mTesting: 'accuracy' - OK!\u001b[0m\n",
      "**Iteration 3**\n",
      "Running notebook...\n",
      "\u001b[32mTesting: 'accuracy' - OK!\u001b[0m\n",
      "**Iteration 4**\n",
      "Running notebook...\n",
      "\u001b[32mTesting: 'accuracy' - OK!\u001b[0m\n",
      "**Iteration 5**\n",
      "Running notebook...\n",
      "\u001b[32mTesting: 'accuracy' - OK!\u001b[0m\n",
      "**Iteration 6**\n",
      "Running notebook...\n",
      "\u001b[32mTesting: 'accuracy' - OK!\u001b[0m\n",
      "**Iteration 7**\n",
      "Running notebook...\n",
      "\u001b[32mTesting: 'accuracy' - OK!\u001b[0m\n",
      "**Iteration 8**\n",
      "Running notebook...\n",
      "\u001b[32mTesting: 'accuracy' - OK!\u001b[0m\n",
      "**Iteration 9**\n",
      "Running notebook...\n",
      "\u001b[32mTesting: 'accuracy' - OK!\u001b[0m\n"
     ]
    }
   ],
   "source": [
    "for i in range(10):\n",
    "    print(f'**Iteration {i}**')\n",
    "    compare.main('ml-classifier.ipynb', run=True)"
   ]
  },
  {
   "cell_type": "markdown",
   "id": "8f979194-1c8f-4f81-a7ff-f0d6d9cc4531",
   "metadata": {},
   "source": [
    "The tests passed, let's look at the history:"
   ]
  },
  {
   "cell_type": "code",
   "execution_count": 8,
   "id": "68032564-1033-4ce3-a3c3-ca0a3169e50b",
   "metadata": {},
   "outputs": [],
   "source": [
    "df = pd.read_json('ml-classifier.json')"
   ]
  },
  {
   "cell_type": "code",
   "execution_count": 9,
   "id": "78af708e-dc7f-4536-9e4d-6f0fb4a96b4d",
   "metadata": {},
   "outputs": [
    {
     "data": {
      "text/plain": [
       "<AxesSubplot:ylabel='Density'>"
      ]
     },
     "execution_count": 9,
     "metadata": {},
     "output_type": "execute_result"
    },
    {
     "data": {
      "image/png": "[encoded data removed]",
      "text/plain": [
       "<Figure size 432x288 with 1 Axes>"
      ]
     },
     "metadata": {
      "needs_background": "light"
     },
     "output_type": "display_data"
    }
   ],
   "source": [
    "df.plot(kind='density')"
   ]
  },
  {
   "cell_type": "markdown",
   "id": "c0d513b9-a12b-4fb6-9299-9b873b4104bc",
   "metadata": {},
   "source": [
    "`nbsnapshot` uses 3 standard deviations from the mean as threshold. Let's compute the range:"
   ]
  },
  {
   "cell_type": "code",
   "execution_count": 10,
   "id": "42883dd4-9ed4-405b-a830-45208627364d",
   "metadata": {},
   "outputs": [],
   "source": [
    "mean, std = df['accuracy'].mean(), df['accuracy'].std()\n",
    "low, high = mean - 3 * std, mean + 3 * std"
   ]
  },
  {
   "cell_type": "code",
   "execution_count": 11,
   "id": "29592777-01d8-4f71-8541-f4c7729ec5cc",
   "metadata": {},
   "outputs": [
    {
     "name": "stdout",
     "output_type": "stream",
     "text": [
      "Range: 0.92, 1.00\n"
     ]
    }
   ],
   "source": [
    "print(f'Range: {low:.2f}, {high:.2f}')"
   ]
  }
 ],
 "metadata": {
  "kernelspec": {
   "display_name": "Python 3 (ipykernel)",
   "language": "python",
   "name": "python3"
  },
  "language_info": {
   "codemirror_mode": {
    "name": "ipython",
    "version": 3
   },
   "file_extension": ".py",
   "mimetype": "text/x-python",
   "name": "python",
   "nbconvert_exporter": "python",
   "pygments_lexer": "ipython3",
   "version": "3.9.13"
  }
 },
 "nbformat": 4,
 "nbformat_minor": 5
}
