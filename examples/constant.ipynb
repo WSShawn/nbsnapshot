{
 "cells": [
  {
   "cell_type": "code",
   "execution_count": 1,
   "id": "d604d0de-6bf2-4ea3-8ee1-b15240b05497",
   "metadata": {
    "execution": {
     "iopub.execute_input": "2022-07-03T21:38:49.901350Z",
     "iopub.status.busy": "2022-07-03T21:38:49.900845Z",
     "iopub.status.idle": "2022-07-03T21:38:49.976928Z",
     "shell.execute_reply": "2022-07-03T21:38:49.975990Z"
    },
    "papermill": {
     "duration": 0.084241,
     "end_time": "2022-07-03T21:38:49.980576",
     "exception": false,
     "start_time": "2022-07-03T21:38:49.896335",
     "status": "completed"
    },
    "tags": []
   },
   "outputs": [],
   "source": [
    "import numpy as np"
   ]
  },
  {
   "cell_type": "code",
   "execution_count": 2,
   "id": "a287ce2c",
   "metadata": {
    "execution": {
     "iopub.execute_input": "2022-07-03T21:38:49.985737Z",
     "iopub.status.busy": "2022-07-03T21:38:49.985223Z",
     "iopub.status.idle": "2022-07-03T21:38:49.997552Z",
     "shell.execute_reply": "2022-07-03T21:38:49.996495Z"
    },
    "papermill": {
     "duration": 0.017821,
     "end_time": "2022-07-03T21:38:50.000071",
     "exception": false,
     "start_time": "2022-07-03T21:38:49.982250",
     "status": "completed"
    },
    "tags": [
     "metric"
    ]
   },
   "outputs": [
    {
     "data": {
      "text/plain": [
       "10"
      ]
     },
     "execution_count": 2,
     "metadata": {},
     "output_type": "execute_result"
    }
   ],
   "source": [
    "10"
   ]
  }
 ],
 "metadata": {
  "kernelspec": {
   "display_name": "Python 3 (ipykernel)",
   "language": "python",
   "name": "python3"
  },
  "language_info": {
   "codemirror_mode": {
    "name": "ipython",
    "version": 3
   },
   "file_extension": ".py",
   "mimetype": "text/x-python",
   "name": "python",
   "nbconvert_exporter": "python",
   "pygments_lexer": "ipython3",
   "version": "3.9.13"
  },
  "papermill": {
   "default_parameters": {},
   "duration": 1.446273,
   "end_time": "2022-07-03T21:38:50.226784",
   "environment_variables": {},
   "exception": null,
   "input_path": "normal.ipynb",
   "output_path": "normal.ipynb",
   "parameters": {},
   "start_time": "2022-07-03T21:38:48.780511",
   "version": "2.3.4"
  }
 },
 "nbformat": 4,
 "nbformat_minor": 5
}
