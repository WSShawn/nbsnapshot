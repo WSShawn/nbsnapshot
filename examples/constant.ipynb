{
 "cells": [
  {
   "cell_type": "code",
   "execution_count": null,
   "id": "d604d0de-6bf2-4ea3-8ee1-b15240b05497",
   "metadata": {
    "papermill": {
     "duration": 0.175766,
     "end_time": "2022-06-25T10:45:26.943551",
     "exception": false,
     "start_time": "2022-06-25T10:45:26.767785",
     "status": "completed"
    },
    "tags": []
   },
   "outputs": [],
   "source": [
    "import numpy as np"
   ]
  },
  {
   "cell_type": "code",
   "execution_count": null,
   "id": "a287ce2c",
   "metadata": {
    "papermill": {
     "duration": 0.019454,
     "end_time": "2022-06-25T10:45:26.965851",
     "exception": false,
     "start_time": "2022-06-25T10:45:26.946397",
     "status": "completed"
    },
    "tags": [
     "first"
    ]
   },
   "outputs": [],
   "source": [
    "np.random.normal()"
   ]
  },
  {
   "cell_type": "code",
   "execution_count": null,
   "id": "f491ebd6-f4c5-43fa-a8b0-6766fb4b3dc2",
   "metadata": {
    "papermill": {
     "duration": 0.013817,
     "end_time": "2022-06-25T10:45:26.982521",
     "exception": false,
     "start_time": "2022-06-25T10:45:26.968704",
     "status": "completed"
    },
    "tags": [
     "second"
    ]
   },
   "outputs": [],
   "source": [
    "np.random.normal()"
   ]
  },
  {
   "cell_type": "code",
   "execution_count": null,
   "id": "a75efa43-1755-4873-88d7-bb0602706e82",
   "metadata": {
    "papermill": {
     "duration": 0.011973,
     "end_time": "2022-06-25T10:45:26.997598",
     "exception": false,
     "start_time": "2022-06-25T10:45:26.985625",
     "status": "completed"
    },
    "tags": []
   },
   "outputs": [],
   "source": [
    "1 + 10"
   ]
  },
  {
   "cell_type": "code",
   "execution_count": null,
   "id": "c288e7e6-65a8-4777-a202-b2f131092bd9",
   "metadata": {
    "papermill": {
     "duration": 0.010656,
     "end_time": "2022-06-25T10:45:27.010208",
     "exception": false,
     "start_time": "2022-06-25T10:45:26.999552",
     "status": "completed"
    },
    "tags": [
     "fourth"
    ]
   },
   "outputs": [],
   "source": [
    "1"
   ]
  }
 ],
 "metadata": {
  "kernelspec": {
   "display_name": "Python 3 (ipykernel)",
   "language": "python",
   "name": "python3"
  },
  "language_info": {
   "codemirror_mode": {
    "name": "ipython",
    "version": 3
   },
   "file_extension": ".py",
   "mimetype": "text/x-python",
   "name": "python",
   "nbconvert_exporter": "python",
   "pygments_lexer": "ipython3",
   "version": "3.9.13"
  },
  "papermill": {
   "default_parameters": {},
   "duration": 1.975879,
   "end_time": "2022-06-25T10:45:27.238416",
   "environment_variables": {},
   "exception": null,
   "input_path": "constant.ipynb",
   "output_path": "constant.ipynb",
   "parameters": {},
   "start_time": "2022-06-25T10:45:25.262537",
   "version": "2.3.4"
  }
 },
 "nbformat": 4,
 "nbformat_minor": 5
}
